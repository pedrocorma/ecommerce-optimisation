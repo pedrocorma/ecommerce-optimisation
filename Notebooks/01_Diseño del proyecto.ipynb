{
 "cells": [
  {
   "cell_type": "markdown",
   "id": "deab8a30",
   "metadata": {},
   "source": [
    "# DISEÑO DEL PROYECTO"
   ]
  },
  {
   "cell_type": "markdown",
   "id": "33c37144",
   "metadata": {},
   "source": [
    "El cliente es un ecommerce del sector de la cosmética que busca romper la evolución plana obtenida durante los últimos meses."
   ]
  },
  {
   "cell_type": "markdown",
   "id": "73736072",
   "metadata": {},
   "source": [
    "## OBJETIVO"
   ]
  },
  {
   "cell_type": "markdown",
   "id": "f200409b",
   "metadata": {},
   "source": [
    "1. Analizar los datos transaccionales para intentar potenciales acciones CRO que incrementen visitas, conversiones y ticket medio, y por tanto incrementar la facturación global del ecommerce.\n",
    "\n",
    "2. Crear activos analíticos avanzados como una segmentación RFM y un sistema de recomendación que impulsen la consecución del objetivo."
   ]
  },
  {
   "cell_type": "markdown",
   "id": "9b35851b",
   "metadata": {},
   "source": [
    "## ENTENDIENDO EL MODELO DE NEGOCIO"
   ]
  },
  {
   "cell_type": "code",
   "execution_count": 1,
   "id": "343fa663",
   "metadata": {},
   "outputs": [
    {
     "data": {
      "image/png": "[encoded data removed]",
      "text/plain": [
       "<IPython.core.display.Image object>"
      ]
     },
     "execution_count": 1,
     "metadata": {},
     "output_type": "execute_result"
    }
   ],
   "source": [
    "from IPython import display\n",
    "display.Image(\"../Datos/Imagenes/customerjourney.png\")"
   ]
  },
  {
   "cell_type": "markdown",
   "id": "42479ceb",
   "metadata": {},
   "source": [
    "El primer paso es cuando un usuario llega a la web del ecommerce. Normalmente vendrá desde:\n",
    "* Campañas de pago: paid ads como Facebook Ads o Google Ads\n",
    "* Contenido orgánico: blog, rrss, ...\n",
    "* Tráfico directo: conoce la url y la introduce en el navegador\n",
    "\n",
    "Ese tráfico se llama visitas, y las páginas que van viendo se llaman páginas vistas, aunque en nuestro caso lo llamaremos views.\n",
    "\n",
    "El usuario navega por la web y cuando le gusta un producto lo mete en el carrito.\n",
    "\n",
    "Finalmente puede sacar productos del carrito, salir sin comprar nada, o finalmente hacer el pedido.\n",
    "\n",
    "Un proceso común es la venta cruzada, en la cual se recomiendan al usuario otros productos que también podrían interesarle.\n",
    "\n",
    "Incluso cuando se ha ido podemos volver a contartar al usuario mediante retargeting o email marketing.\n",
    "\n",
    "Todo este proceso se llama funnel o también customer journey.\n",
    "\n",
    "En el entorno online prácticamente todo se puede registrar. \n",
    "\n",
    "El registro del usuario puede ser logado o no.\n",
    "\n",
    "La secuencia de acciones que hace un usuario en la misma sesión de navegación se llama sesión.\n",
    "\n",
    "El ratio de compras sobre las visitas se llama ratio de conversión.\n",
    "\n",
    "Además existen otras métricas clave que tenemos que dominar para gestionar correctamente un ecommerce:\n",
    "\n",
    "* CPA: Coste Por Adquisición\n",
    "* AOV: Average Order Value\n",
    "* Frecuencia de compra\n",
    "* LTV: Life Time Value\n",
    "* Churn: De cada 100 clientes, cuantos se van cayendo. Aplica más a ecomerces de pagos recurrentes (SaaS, etc...)"
   ]
  },
  {
   "cell_type": "markdown",
   "id": "a30ef2d5",
   "metadata": {},
   "source": [
    "## PALANCAS"
   ]
  },
  {
   "cell_type": "markdown",
   "id": "60675ba6",
   "metadata": {},
   "source": [
    "Hay tres formas principales de hacer crecer este tipo de negocioS: obtener nuevos clientes (lo que significa conseguir más visitas y mayores tasas de conversión), aumentar la frecuencia de compra de los clientes existentes, y aumentar el valor medio del ticket, lo que significa conseguir más productos o de mayor valor comprados en la misma sesión de compra.\n",
    "\n",
    "Para conseguir estos 3 efectos, este proyecto trabajará sobre las siguientes palancas operativas:\n",
    "- **Customer journey**: ¿Cómo se puede optimizar cada paso del viaje?\n",
    "- **Clientes**: ¿Cómo se puede utilizar la información disponible sobre los clientes para optimizar las campañas comerciales de la empresa?\n",
    "- **Productos**: ¿Cómo se puede optimizar el catálogo de productos? ¿Cómo puede la empresa identificar de forma personalizada los mejores productos para mostrar a cada cliente?\n",
    "\n",
    "Se entenderá CRO de manera amplia, es decir como la disciplina que pone en práctica acciones para trabajar sobre las palancas y conceptos anteriores."
   ]
  },
  {
   "cell_type": "markdown",
   "id": "d71fc34c",
   "metadata": {},
   "source": [
    "## KPIs"
   ]
  },
  {
   "cell_type": "markdown",
   "id": "a2226912",
   "metadata": {},
   "source": [
    "* **Visitas**\n",
    "* **Conversión**\n",
    "* **Frecuencia de compra**\n",
    "* **Ticket medio**\n",
    "* **Tasa abandono carrito**\n",
    "* **LTV**: Life Time Value."
   ]
  },
  {
   "cell_type": "markdown",
   "id": "8dc55217",
   "metadata": {},
   "source": [
    "## ENTIDADES Y DATOS"
   ]
  },
  {
   "cell_type": "markdown",
   "id": "bb9d5316",
   "metadata": {},
   "source": [
    "Las entidades presentes en la granularidad de los datos son:\n",
    "* **Usuarios**\n",
    "* **Clientes**\n",
    "* **Sesiones**\n",
    "* **Eventos**\n",
    "* **Productos**"
   ]
  },
  {
   "cell_type": "markdown",
   "id": "fec0babe",
   "metadata": {},
   "source": [
    "## PREGUNTAS SEMILLA"
   ]
  },
  {
   "cell_type": "markdown",
   "id": "8f3dcf9d",
   "metadata": {},
   "source": [
    "Con el objetivo de orientar inicialmente el proyecto, y habiendo entendido las palancas, kpis y entidades, se plantean a continuación una serie de preguntas semilla:\n",
    "\n",
    "**Sobre el customer journey:**\n",
    "\n",
    "* ¿Cómo es un proceso típico de compra?\n",
    "* ¿Cuántos productos se ven, se añaden al carro, se abandonan y se compran de media en cada sesión?\n",
    "* ¿Cómo ha sido la tendencia de estos indicadores en los últimos meses?\n",
    "\n",
    "**Sobre los clientes:**\n",
    "\n",
    "* ¿Cuántos productos compra cada cliente?\n",
    "* ¿Cuánto se gasta cada cliente?\n",
    "* ¿Hay \"mejores clientes\" que haya que identificar y tratar de forma diferente?\n",
    "* ¿Los clientes repiten compras en los siguientes meses?\n",
    "* ¿Cual es el LTV medio de un cliente?\n",
    "* ¿Podemos diseñar campañas personalizas al valor del cliente?\n",
    "\n",
    "**Sobre los productos:**\n",
    "\n",
    "* ¿Cuales son los productos más vendidos?\n",
    "* ¿Hay productos que no se venden?\n",
    "* ¿Existe relación entre el precio del producto y su volumen de ventas?\n",
    "* ¿Hay productos que se visiten pero no se compren?\n",
    "* ¿Hay productos que se saquen recurrentemente del carrito?\n",
    "* ¿Se podrían hacer recomendaciones personalizadas de productos para cada cliente?"
   ]
  }
 ],
 "metadata": {
  "kernelspec": {
   "display_name": "Python 3 (ipykernel)",
   "language": "python",
   "name": "python3"
  },
  "language_info": {
   "codemirror_mode": {
    "name": "ipython",
    "version": 3
   },
   "file_extension": ".py",
   "mimetype": "text/x-python",
   "name": "python",
   "nbconvert_exporter": "python",
   "pygments_lexer": "ipython3",
   "version": "3.9.5"
  },
  "latex_envs": {
   "LaTeX_envs_menu_present": true,
   "autoclose": false,
   "autocomplete": true,
   "bibliofile": "biblio.bib",
   "cite_by": "apalike",
   "current_citInitial": 1,
   "eqLabelWithNumbers": true,
   "eqNumInitial": 1,
   "hotkeys": {
    "equation": "Ctrl-E",
    "itemize": "Ctrl-I"
   },
   "labels_anchors": false,
   "latex_user_defs": false,
   "report_style_numbering": false,
   "user_envs_cfg": false
  },
  "toc": {
   "base_numbering": 1,
   "nav_menu": {},
   "number_sections": true,
   "sideBar": true,
   "skip_h1_title": false,
   "title_cell": "Table of Contents",
   "title_sidebar": "Contents",
   "toc_cell": false,
   "toc_position": {},
   "toc_section_display": true,
   "toc_window_display": false
  },
  "varInspector": {
   "cols": {
    "lenName": 16,
    "lenType": 16,
    "lenVar": 40
   },
   "kernels_config": {
    "python": {
     "delete_cmd_postfix": "",
     "delete_cmd_prefix": "del ",
     "library": "var_list.py",
     "varRefreshCmd": "print(var_dic_list())"
    },
    "r": {
     "delete_cmd_postfix": ") ",
     "delete_cmd_prefix": "rm(",
     "library": "var_list.r",
     "varRefreshCmd": "cat(var_dic_list()) "
    }
   },
   "types_to_exclude": [
    "module",
    "function",
    "builtin_function_or_method",
    "instance",
    "_Feature"
   ],
   "window_display": false
  }
 },
 "nbformat": 4,
 "nbformat_minor": 5
}
